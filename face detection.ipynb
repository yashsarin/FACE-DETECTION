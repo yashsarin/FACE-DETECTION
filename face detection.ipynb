{
 "cells": [
  {
   "cell_type": "code",
   "execution_count": 1,
   "id": "98e80836-fc36-4bf6-b98c-d28ac091498e",
   "metadata": {},
   "outputs": [],
   "source": [
    "import cv2"
   ]
  },
  {
   "cell_type": "code",
   "execution_count": 2,
   "id": "defa4325-b4d5-4024-936d-bcb208b53c0a",
   "metadata": {},
   "outputs": [],
   "source": [
    "face_cascade= cv2.CascadeClassifier(\"haarcascade_frontalface_default.xml\")\n",
    "img = cv2.imread(\"yash sarin.png\")"
   ]
  },
  {
   "cell_type": "code",
   "execution_count": 3,
   "id": "869c185c-36d5-4853-b835-3cea64a16601",
   "metadata": {},
   "outputs": [
    {
     "name": "stdout",
     "output_type": "stream",
     "text": [
      "[[390 201 538 538]\n",
      " [432 967 154 154]]\n"
     ]
    }
   ],
   "source": [
    "faces = face_cascade.detectMultiScale(img)\n",
    "print(faces)"
   ]
  },
  {
   "cell_type": "code",
   "execution_count": 4,
   "id": "43d15092-ff03-43e5-9e10-5a2178082e53",
   "metadata": {},
   "outputs": [],
   "source": [
    "for (x,y,w,h) in faces:\n",
    "    cv2.rectangle(img,(x,y),(x+w,y+h),(0,255,0),3)"
   ]
  },
  {
   "cell_type": "code",
   "execution_count": 5,
   "id": "40832fd5-4ddb-4069-8173-4025f2dc0a3f",
   "metadata": {},
   "outputs": [],
   "source": [
    "cv2.imshow(\"yash\",img)"
   ]
  },
  {
   "cell_type": "code",
   "execution_count": null,
   "id": "3820b693-9696-4686-b071-e38ad32e3ab9",
   "metadata": {},
   "outputs": [],
   "source": [
    "cv2.waitKey(0)\n"
   ]
  },
  {
   "cell_type": "code",
   "execution_count": null,
   "id": "ea178e20-0d16-4eb4-9206-7d6ff5921da8",
   "metadata": {},
   "outputs": [],
   "source": []
  }
 ],
 "metadata": {
  "kernelspec": {
   "display_name": "Python 3 (ipykernel)",
   "language": "python",
   "name": "python3"
  },
  "language_info": {
   "codemirror_mode": {
    "name": "ipython",
    "version": 3
   },
   "file_extension": ".py",
   "mimetype": "text/x-python",
   "name": "python",
   "nbconvert_exporter": "python",
   "pygments_lexer": "ipython3",
   "version": "3.11.7"
  }
 },
 "nbformat": 4,
 "nbformat_minor": 5
}
